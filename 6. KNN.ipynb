{
 "cells": [
  {
   "cell_type": "markdown",
   "metadata": {},
   "source": [
    "# K Nearest Neighbours"
   ]
  },
  {
   "cell_type": "markdown",
   "metadata": {},
   "source": [
    "KNN is a lazy learner classifier which classifies data based on the 'closeness' factor. It is of two types -\n",
    "    - 1. KNN Classification\n",
    "    - 2. KNN Regression\n",
    "    \n",
    "KNN Algorithm classifies data based on the calculation of Euclidean Distance between the data points and the test instance. A value of 'k' is selected and then the 'k' nearest or closest neighbours are found depending upon the 'k' number of least euclidean distances from the test example. After that the most frequent occuring or 'majority' class is chosen as the classified class for the test instance.\n",
    "\n",
    "-----\n",
    "Training phase and prediction phase. \n",
    "- Training Phase: No training, only store all training instances.\n",
    "- Prediction Phase: When testing instances appear, only then Euclidean distances are calculated and model is learned.\n",
    "\n",
    "-> “Lazy learning”\n"
   ]
  },
  {
   "cell_type": "markdown",
   "metadata": {},
   "source": [
    "#### Choosing right value of 'k'\n",
    "\n",
    "Small k - Captures the fine structure of problem statement, used for smaller data sets, reduced noise between classes\n",
    "\n",
    "Large k - Ignores(less sesnsitive) the fine structure or noise present in the problem space. Used for larger data sets"
   ]
  },
  {
   "cell_type": "markdown",
   "metadata": {},
   "source": [
    "- If some of the features are more importnant than the others or contains more noise, in that case, we use the Weighted Euclidean Distance approach"
   ]
  },
  {
   "cell_type": "markdown",
   "metadata": {},
   "source": [
    "# Psuedo Algorithm"
   ]
  },
  {
   "cell_type": "markdown",
   "metadata": {},
   "source": [
    "   1•  Determine parameter K. Generally, K = 1 +- sqrt(n); n = total data points. But, you can also perform KNN on smaller data set (validation set) and determine a good value of 'k'\n",
    "\n",
    "   2• Calculate the distance between the test instance and all the training instances, using one of the Distance methods:\n",
    "              \n",
    "              (i).  'Simple Euclidean Distance     on standardized data'\n",
    "              (ii). 'Weighted Euclidean Distance   on raw data, where weights are based on range of features to bring every \n",
    "                                                                feature on same scale, higher range features (10K, 5K) \n",
    "                                                                will have smaller weights and lower range \n",
    "                                                                ones (1,10) will have higher weights (Mahalanobis distance) \n",
    "                                                                called \"weights for standaridzation\"   \n",
    "             \n",
    "             (iii). 'Weighted Euclidean Distance   on standardized data, where weights are based on importance of features\n",
    "                                                                         more important features will have bigger weight \n",
    "                                                                         values while less important features will have\n",
    "                                                                         smaller weight values, and insignificant features \n",
    "                                                                         will have zero weights,\n",
    "                                                                         called \"weights for importance\"\n",
    "\n",
    "   3• Sort the distances and determine K nearest neighbors and gather the labels\n",
    "\n",
    "   4• Use one of the methods to determine the predicted class/value:\n",
    "       - 'Simple Majority Voting (KNN)'\n",
    "       - 'Distance Weighted Voting (WKNN)' "
   ]
  },
  {
   "cell_type": "markdown",
   "metadata": {},
   "source": [
    "# KNN Classifier  \n"
   ]
  },
  {
   "cell_type": "markdown",
   "metadata": {},
   "source": [
    "## AIM"
   ]
  },
  {
   "cell_type": "markdown",
   "metadata": {},
   "source": [
    "Predict the Onset of Diabetes (1) or not (0) for a new set of feature values"
   ]
  },
  {
   "cell_type": "markdown",
   "metadata": {},
   "source": [
    "----"
   ]
  },
  {
   "cell_type": "markdown",
   "metadata": {},
   "source": [
    "## Data"
   ]
  },
  {
   "cell_type": "markdown",
   "metadata": {},
   "source": [
    "- This problem is comprised of 768 observations of medical details for Pima indians patents. \n",
    "\n",
    "- All patients are women aged 21 or older. All attributes are numeric, and their units vary from attribute to attribute.\n",
    "\n",
    "- Each record has a class value that indicates whether the patient suffered an onset of diabetes within 5 years of when the measurements were taken Yes(1) or not(0).\n",
    "\n",
    "- A good prediction accuracy is 70%-76%."
   ]
  },
  {
   "cell_type": "markdown",
   "metadata": {},
   "source": [
    "## Imports"
   ]
  },
  {
   "cell_type": "code",
   "execution_count": 2,
   "metadata": {
    "collapsed": true
   },
   "outputs": [],
   "source": [
    "import math\n",
    "import random\n",
    "import numpy as np\n",
    "import pandas as pd\n",
    "\n",
    "import sklearn\n",
    "from sklearn.utils import shuffle"
   ]
  },
  {
   "cell_type": "markdown",
   "metadata": {},
   "source": [
    "## Dataset"
   ]
  },
  {
   "cell_type": "code",
   "execution_count": 3,
   "metadata": {
    "scrolled": true
   },
   "outputs": [
    {
     "data": {
      "text/html": [
       "<div>\n",
       "<style>\n",
       "    .dataframe thead tr:only-child th {\n",
       "        text-align: right;\n",
       "    }\n",
       "\n",
       "    .dataframe thead th {\n",
       "        text-align: left;\n",
       "    }\n",
       "\n",
       "    .dataframe tbody tr th {\n",
       "        vertical-align: top;\n",
       "    }\n",
       "</style>\n",
       "<table border=\"1\" class=\"dataframe\">\n",
       "  <thead>\n",
       "    <tr style=\"text-align: right;\">\n",
       "      <th></th>\n",
       "      <th>Level</th>\n",
       "      <th>Iron_content</th>\n",
       "      <th>Calcium_content</th>\n",
       "      <th>Vitamins_deficiency</th>\n",
       "      <th>Beta_nagative</th>\n",
       "      <th>Beta_postive</th>\n",
       "      <th>Blood_workout</th>\n",
       "      <th>Age</th>\n",
       "      <th>Class</th>\n",
       "    </tr>\n",
       "  </thead>\n",
       "  <tbody>\n",
       "    <tr>\n",
       "      <th>0</th>\n",
       "      <td>6</td>\n",
       "      <td>148</td>\n",
       "      <td>72</td>\n",
       "      <td>35</td>\n",
       "      <td>0</td>\n",
       "      <td>33.6</td>\n",
       "      <td>0.627</td>\n",
       "      <td>50</td>\n",
       "      <td>1</td>\n",
       "    </tr>\n",
       "    <tr>\n",
       "      <th>1</th>\n",
       "      <td>1</td>\n",
       "      <td>85</td>\n",
       "      <td>66</td>\n",
       "      <td>29</td>\n",
       "      <td>0</td>\n",
       "      <td>26.6</td>\n",
       "      <td>0.351</td>\n",
       "      <td>31</td>\n",
       "      <td>0</td>\n",
       "    </tr>\n",
       "    <tr>\n",
       "      <th>2</th>\n",
       "      <td>8</td>\n",
       "      <td>183</td>\n",
       "      <td>64</td>\n",
       "      <td>0</td>\n",
       "      <td>0</td>\n",
       "      <td>23.3</td>\n",
       "      <td>0.672</td>\n",
       "      <td>32</td>\n",
       "      <td>1</td>\n",
       "    </tr>\n",
       "    <tr>\n",
       "      <th>3</th>\n",
       "      <td>1</td>\n",
       "      <td>89</td>\n",
       "      <td>66</td>\n",
       "      <td>23</td>\n",
       "      <td>94</td>\n",
       "      <td>28.1</td>\n",
       "      <td>0.167</td>\n",
       "      <td>21</td>\n",
       "      <td>0</td>\n",
       "    </tr>\n",
       "    <tr>\n",
       "      <th>4</th>\n",
       "      <td>0</td>\n",
       "      <td>137</td>\n",
       "      <td>40</td>\n",
       "      <td>35</td>\n",
       "      <td>168</td>\n",
       "      <td>43.1</td>\n",
       "      <td>2.288</td>\n",
       "      <td>33</td>\n",
       "      <td>1</td>\n",
       "    </tr>\n",
       "  </tbody>\n",
       "</table>\n",
       "</div>"
      ],
      "text/plain": [
       "   Level  Iron_content  Calcium_content  Vitamins_deficiency  Beta_nagative  \\\n",
       "0      6           148               72                   35              0   \n",
       "1      1            85               66                   29              0   \n",
       "2      8           183               64                    0              0   \n",
       "3      1            89               66                   23             94   \n",
       "4      0           137               40                   35            168   \n",
       "\n",
       "   Beta_postive  Blood_workout  Age  Class  \n",
       "0          33.6          0.627   50      1  \n",
       "1          26.6          0.351   31      0  \n",
       "2          23.3          0.672   32      1  \n",
       "3          28.1          0.167   21      0  \n",
       "4          43.1          2.288   33      1  "
      ]
     },
     "execution_count": 3,
     "metadata": {},
     "output_type": "execute_result"
    }
   ],
   "source": [
    "data = pd.read_csv('Data/data_5_2_pima-indians-diabetes.data.csv')\n",
    "data.head()"
   ]
  },
  {
   "cell_type": "code",
   "execution_count": 4,
   "metadata": {},
   "outputs": [
    {
     "data": {
      "text/plain": [
       "(768, 9)"
      ]
     },
     "execution_count": 4,
     "metadata": {},
     "output_type": "execute_result"
    }
   ],
   "source": [
    "data.shape"
   ]
  },
  {
   "cell_type": "markdown",
   "metadata": {},
   "source": [
    "#### Features"
   ]
  },
  {
   "cell_type": "code",
   "execution_count": 5,
   "metadata": {
    "collapsed": true
   },
   "outputs": [],
   "source": [
    "Features = list(data.columns)\n",
    "Features.remove(\"Class\")"
   ]
  },
  {
   "cell_type": "markdown",
   "metadata": {},
   "source": [
    "## Standardization (Feature Scaling)"
   ]
  },
  {
   "cell_type": "code",
   "execution_count": 6,
   "metadata": {
    "collapsed": true
   },
   "outputs": [],
   "source": [
    "def standarized_data(df):\n",
    "    \n",
    "    for f in Features:\n",
    "        df[f] = (df[f] - df[f].mean())/df[f].std()\n",
    "        \n",
    "    return df"
   ]
  },
  {
   "cell_type": "code",
   "execution_count": 7,
   "metadata": {
    "scrolled": true
   },
   "outputs": [
    {
     "data": {
      "text/html": [
       "<div>\n",
       "<style>\n",
       "    .dataframe thead tr:only-child th {\n",
       "        text-align: right;\n",
       "    }\n",
       "\n",
       "    .dataframe thead th {\n",
       "        text-align: left;\n",
       "    }\n",
       "\n",
       "    .dataframe tbody tr th {\n",
       "        vertical-align: top;\n",
       "    }\n",
       "</style>\n",
       "<table border=\"1\" class=\"dataframe\">\n",
       "  <thead>\n",
       "    <tr style=\"text-align: right;\">\n",
       "      <th></th>\n",
       "      <th>Level</th>\n",
       "      <th>Iron_content</th>\n",
       "      <th>Calcium_content</th>\n",
       "      <th>Vitamins_deficiency</th>\n",
       "      <th>Beta_nagative</th>\n",
       "      <th>Beta_postive</th>\n",
       "      <th>Blood_workout</th>\n",
       "      <th>Age</th>\n",
       "      <th>Class</th>\n",
       "    </tr>\n",
       "  </thead>\n",
       "  <tbody>\n",
       "    <tr>\n",
       "      <th>0</th>\n",
       "      <td>0.639530</td>\n",
       "      <td>0.847771</td>\n",
       "      <td>0.149543</td>\n",
       "      <td>0.906679</td>\n",
       "      <td>-0.692439</td>\n",
       "      <td>0.203880</td>\n",
       "      <td>0.468187</td>\n",
       "      <td>1.425067</td>\n",
       "      <td>1</td>\n",
       "    </tr>\n",
       "    <tr>\n",
       "      <th>1</th>\n",
       "      <td>-0.844335</td>\n",
       "      <td>-1.122665</td>\n",
       "      <td>-0.160441</td>\n",
       "      <td>0.530556</td>\n",
       "      <td>-0.692439</td>\n",
       "      <td>-0.683976</td>\n",
       "      <td>-0.364823</td>\n",
       "      <td>-0.190548</td>\n",
       "      <td>0</td>\n",
       "    </tr>\n",
       "    <tr>\n",
       "      <th>2</th>\n",
       "      <td>1.233077</td>\n",
       "      <td>1.942458</td>\n",
       "      <td>-0.263769</td>\n",
       "      <td>-1.287373</td>\n",
       "      <td>-0.692439</td>\n",
       "      <td>-1.102537</td>\n",
       "      <td>0.604004</td>\n",
       "      <td>-0.105515</td>\n",
       "      <td>1</td>\n",
       "    </tr>\n",
       "    <tr>\n",
       "      <th>3</th>\n",
       "      <td>-0.844335</td>\n",
       "      <td>-0.997558</td>\n",
       "      <td>-0.160441</td>\n",
       "      <td>0.154433</td>\n",
       "      <td>0.123221</td>\n",
       "      <td>-0.493721</td>\n",
       "      <td>-0.920163</td>\n",
       "      <td>-1.040871</td>\n",
       "      <td>0</td>\n",
       "    </tr>\n",
       "    <tr>\n",
       "      <th>4</th>\n",
       "      <td>-1.141108</td>\n",
       "      <td>0.503727</td>\n",
       "      <td>-1.503707</td>\n",
       "      <td>0.906679</td>\n",
       "      <td>0.765337</td>\n",
       "      <td>1.408828</td>\n",
       "      <td>5.481337</td>\n",
       "      <td>-0.020483</td>\n",
       "      <td>1</td>\n",
       "    </tr>\n",
       "  </tbody>\n",
       "</table>\n",
       "</div>"
      ],
      "text/plain": [
       "      Level  Iron_content  Calcium_content  Vitamins_deficiency  \\\n",
       "0  0.639530      0.847771         0.149543             0.906679   \n",
       "1 -0.844335     -1.122665        -0.160441             0.530556   \n",
       "2  1.233077      1.942458        -0.263769            -1.287373   \n",
       "3 -0.844335     -0.997558        -0.160441             0.154433   \n",
       "4 -1.141108      0.503727        -1.503707             0.906679   \n",
       "\n",
       "   Beta_nagative  Beta_postive  Blood_workout       Age  Class  \n",
       "0      -0.692439      0.203880       0.468187  1.425067      1  \n",
       "1      -0.692439     -0.683976      -0.364823 -0.190548      0  \n",
       "2      -0.692439     -1.102537       0.604004 -0.105515      1  \n",
       "3       0.123221     -0.493721      -0.920163 -1.040871      0  \n",
       "4       0.765337      1.408828       5.481337 -0.020483      1  "
      ]
     },
     "execution_count": 7,
     "metadata": {},
     "output_type": "execute_result"
    }
   ],
   "source": [
    "df = standarized_data(data)\n",
    "df.head()"
   ]
  },
  {
   "cell_type": "markdown",
   "metadata": {},
   "source": [
    "# Steps...."
   ]
  },
  {
   "cell_type": "markdown",
   "metadata": {},
   "source": [
    "## Step 1:- Selected a value of 'k'"
   ]
  },
  {
   "cell_type": "code",
   "execution_count": 8,
   "metadata": {},
   "outputs": [
    {
     "name": "stdout",
     "output_type": "stream",
     "text": [
      "Selected value of 'k' is 27\n"
     ]
    }
   ],
   "source": [
    "# Selecting for 3 nearest neighbours\n",
    "k = int(np.sqrt(df.shape[0]))\n",
    "print \"Selected value of 'k' is\", k"
   ]
  },
  {
   "cell_type": "markdown",
   "metadata": {},
   "source": [
    "## Step 2:- Prepare the distance functions \n",
    "\n",
    "So as to calulate distance between training and testing data points"
   ]
  },
  {
   "cell_type": "markdown",
   "metadata": {},
   "source": [
    "### Train Test Split"
   ]
  },
  {
   "cell_type": "code",
   "execution_count": 9,
   "metadata": {
    "collapsed": true
   },
   "outputs": [],
   "source": [
    "def train_test_split(df, train_size):\n",
    "    \n",
    "    df = shuffle(df).reset_index(drop=True)\n",
    "    \n",
    "    train_index = int(train_size*len(df)) + 1\n",
    "    test_index = train_index + 1\n",
    "    \n",
    "    train_data = df[0:train_index]\n",
    "    test_data = df[test_index:]\n",
    "    print 'Train Data = ', len(train_data), ' Test Data = ', len(test_data)\n",
    "    \n",
    "    return train_data, test_data"
   ]
  },
  {
   "cell_type": "code",
   "execution_count": 10,
   "metadata": {},
   "outputs": [
    {
     "name": "stdout",
     "output_type": "stream",
     "text": [
      "Train Data =  615  Test Data =  152\n"
     ]
    }
   ],
   "source": [
    "train_data, test_data = train_test_split(df, 0.80)"
   ]
  },
  {
   "cell_type": "markdown",
   "metadata": {},
   "source": [
    "----"
   ]
  },
  {
   "cell_type": "markdown",
   "metadata": {},
   "source": [
    "##### Example: DEMO For Only 1 (one) 'test' datapoint  vs  all training data points, for visualization purpose"
   ]
  },
  {
   "cell_type": "code",
   "execution_count": 11,
   "metadata": {},
   "outputs": [
    {
     "data": {
      "text/html": [
       "<div>\n",
       "<style>\n",
       "    .dataframe thead tr:only-child th {\n",
       "        text-align: right;\n",
       "    }\n",
       "\n",
       "    .dataframe thead th {\n",
       "        text-align: left;\n",
       "    }\n",
       "\n",
       "    .dataframe tbody tr th {\n",
       "        vertical-align: top;\n",
       "    }\n",
       "</style>\n",
       "<table border=\"1\" class=\"dataframe\">\n",
       "  <thead>\n",
       "    <tr style=\"text-align: right;\">\n",
       "      <th></th>\n",
       "      <th>Level</th>\n",
       "      <th>Iron_content</th>\n",
       "      <th>Calcium_content</th>\n",
       "      <th>Vitamins_deficiency</th>\n",
       "      <th>Beta_nagative</th>\n",
       "      <th>Beta_postive</th>\n",
       "      <th>Blood_workout</th>\n",
       "      <th>Age</th>\n",
       "      <th>Class</th>\n",
       "    </tr>\n",
       "  </thead>\n",
       "  <tbody>\n",
       "    <tr>\n",
       "      <th>0</th>\n",
       "      <td>-1.141108</td>\n",
       "      <td>-0.121808</td>\n",
       "      <td>0.562856</td>\n",
       "      <td>0.65593</td>\n",
       "      <td>-0.232546</td>\n",
       "      <td>1.675184</td>\n",
       "      <td>-1.155579</td>\n",
       "      <td>-0.785774</td>\n",
       "      <td>0</td>\n",
       "    </tr>\n",
       "  </tbody>\n",
       "</table>\n",
       "</div>"
      ],
      "text/plain": [
       "      Level  Iron_content  Calcium_content  Vitamins_deficiency  \\\n",
       "0 -1.141108     -0.121808         0.562856              0.65593   \n",
       "\n",
       "   Beta_nagative  Beta_postive  Blood_workout       Age  Class  \n",
       "0      -0.232546      1.675184      -1.155579 -0.785774      0  "
      ]
     },
     "execution_count": 11,
     "metadata": {},
     "output_type": "execute_result"
    }
   ],
   "source": [
    "# This is our 1st train data sample\n",
    "train_data.head(1)"
   ]
  },
  {
   "cell_type": "code",
   "execution_count": 12,
   "metadata": {},
   "outputs": [
    {
     "data": {
      "text/html": [
       "<div>\n",
       "<style>\n",
       "    .dataframe thead tr:only-child th {\n",
       "        text-align: right;\n",
       "    }\n",
       "\n",
       "    .dataframe thead th {\n",
       "        text-align: left;\n",
       "    }\n",
       "\n",
       "    .dataframe tbody tr th {\n",
       "        vertical-align: top;\n",
       "    }\n",
       "</style>\n",
       "<table border=\"1\" class=\"dataframe\">\n",
       "  <thead>\n",
       "    <tr style=\"text-align: right;\">\n",
       "      <th></th>\n",
       "      <th>Level</th>\n",
       "      <th>Iron_content</th>\n",
       "      <th>Calcium_content</th>\n",
       "      <th>Vitamins_deficiency</th>\n",
       "      <th>Beta_nagative</th>\n",
       "      <th>Beta_postive</th>\n",
       "      <th>Blood_workout</th>\n",
       "      <th>Age</th>\n",
       "      <th>Class</th>\n",
       "    </tr>\n",
       "  </thead>\n",
       "  <tbody>\n",
       "    <tr>\n",
       "      <th>616</th>\n",
       "      <td>0.63953</td>\n",
       "      <td>1.285646</td>\n",
       "      <td>-0.367098</td>\n",
       "      <td>-1.287373</td>\n",
       "      <td>-0.692439</td>\n",
       "      <td>-0.9757</td>\n",
       "      <td>-0.886963</td>\n",
       "      <td>1.425067</td>\n",
       "      <td>1</td>\n",
       "    </tr>\n",
       "  </tbody>\n",
       "</table>\n",
       "</div>"
      ],
      "text/plain": [
       "       Level  Iron_content  Calcium_content  Vitamins_deficiency  \\\n",
       "616  0.63953      1.285646        -0.367098            -1.287373   \n",
       "\n",
       "     Beta_nagative  Beta_postive  Blood_workout       Age  Class  \n",
       "616      -0.692439       -0.9757      -0.886963  1.425067      1  "
      ]
     },
     "execution_count": 12,
     "metadata": {},
     "output_type": "execute_result"
    }
   ],
   "source": [
    "# This is our 1st test data sample\n",
    "test_data.head(1)"
   ]
  },
  {
   "cell_type": "code",
   "execution_count": 13,
   "metadata": {},
   "outputs": [
    {
     "name": "stdout",
     "output_type": "stream",
     "text": [
      "Euclidean Distance between '1 train sample' & '1 test sample' is =  4.79494588652 units\n"
     ]
    }
   ],
   "source": [
    "# dist = ROOT{SUM[(Xik - Xjk)^2]} = ROOT{(Xi1-Xj1)^2 + (Xi2-Xj2)^2 + (Xi3-Xj3)^2 + (Xi4-Xj4)... + (Xin-Xjn)^2}; k - no. features\n",
    "Distance = (train_data.head(1).values[0] - test_data.head(1).values[0])**2\n",
    "Distance = np.sqrt(Distance.sum())\n",
    "print \"Euclidean Distance between '1 train sample' & '1 test sample' is = \", Distance, 'units'"
   ]
  },
  {
   "cell_type": "markdown",
   "metadata": {},
   "source": [
    "----"
   ]
  },
  {
   "cell_type": "markdown",
   "metadata": {},
   "source": [
    "## Functions to compute 'distance' between all training and testing data points"
   ]
  },
  {
   "cell_type": "markdown",
   "metadata": {},
   "source": [
    "#### Method1: Simple Euclidean Distance (ED)\n",
    "\n",
    "Assuming all features are equally importnant"
   ]
  },
  {
   "cell_type": "code",
   "execution_count": 14,
   "metadata": {
    "collapsed": true
   },
   "outputs": [],
   "source": [
    "def Euclidean_Distance(train_feature_vector, test_feature_vector):\n",
    "    ED = np.sqrt(((train_feature_vector - test_feature_vector)**2).sum())\n",
    "    return ED"
   ]
  },
  {
   "cell_type": "markdown",
   "metadata": {},
   "source": [
    "#### Method2: Weighted Euclidean Distance : Weights for importance (W_ED)\n",
    "Assuming some features are more importnant than others, hence giving bigger value of weights to important features and smaller value of weights to less important feature and zero value of weights to insignificant ones"
   ]
  },
  {
   "cell_type": "markdown",
   "metadata": {},
   "source": [
    "- Weighting Function-- \n",
    "\n",
    "    Weights found out by Weighting Function (Normalizing correlation values)\n",
    "                   X - X_min\n",
    "      X_norm  = ---------------\n",
    "                 X_max - X_min\n",
    "              \n",
    "      i.e.\n",
    "                 \n",
    "             Correlation_Value_1 - min(Correlation_Value)\n",
    "      W1 =  ----------------------------------------------\n",
    "            max(Correlation_Value) - min(Correlation_Value)\n",
    "      \n",
    "     ...-> Maximum value becomes 1 and the min value becomes 0 and others are squished between [0, 1]"
   ]
  },
  {
   "cell_type": "code",
   "execution_count": 15,
   "metadata": {},
   "outputs": [
    {
     "data": {
      "text/html": [
       "<div>\n",
       "<style>\n",
       "    .dataframe thead tr:only-child th {\n",
       "        text-align: right;\n",
       "    }\n",
       "\n",
       "    .dataframe thead th {\n",
       "        text-align: left;\n",
       "    }\n",
       "\n",
       "    .dataframe tbody tr th {\n",
       "        vertical-align: top;\n",
       "    }\n",
       "</style>\n",
       "<table border=\"1\" class=\"dataframe\">\n",
       "  <thead>\n",
       "    <tr style=\"text-align: right;\">\n",
       "      <th></th>\n",
       "      <th>Class</th>\n",
       "      <th>Weights</th>\n",
       "    </tr>\n",
       "  </thead>\n",
       "  <tbody>\n",
       "    <tr>\n",
       "      <th>Level</th>\n",
       "      <td>0.221898</td>\n",
       "      <td>0.390597</td>\n",
       "    </tr>\n",
       "    <tr>\n",
       "      <th>Iron_content</th>\n",
       "      <td>0.466581</td>\n",
       "      <td>1.000000</td>\n",
       "    </tr>\n",
       "    <tr>\n",
       "      <th>Calcium_content</th>\n",
       "      <td>0.065068</td>\n",
       "      <td>0.000000</td>\n",
       "    </tr>\n",
       "    <tr>\n",
       "      <th>Vitamins_deficiency</th>\n",
       "      <td>0.074752</td>\n",
       "      <td>0.024118</td>\n",
       "    </tr>\n",
       "    <tr>\n",
       "      <th>Beta_nagative</th>\n",
       "      <td>0.130548</td>\n",
       "      <td>0.163082</td>\n",
       "    </tr>\n",
       "    <tr>\n",
       "      <th>Beta_postive</th>\n",
       "      <td>0.292695</td>\n",
       "      <td>0.566921</td>\n",
       "    </tr>\n",
       "    <tr>\n",
       "      <th>Blood_workout</th>\n",
       "      <td>0.173844</td>\n",
       "      <td>0.270915</td>\n",
       "    </tr>\n",
       "    <tr>\n",
       "      <th>Age</th>\n",
       "      <td>0.238356</td>\n",
       "      <td>0.431587</td>\n",
       "    </tr>\n",
       "  </tbody>\n",
       "</table>\n",
       "</div>"
      ],
      "text/plain": [
       "                        Class   Weights\n",
       "Level                0.221898  0.390597\n",
       "Iron_content         0.466581  1.000000\n",
       "Calcium_content      0.065068  0.000000\n",
       "Vitamins_deficiency  0.074752  0.024118\n",
       "Beta_nagative        0.130548  0.163082\n",
       "Beta_postive         0.292695  0.566921\n",
       "Blood_workout        0.173844  0.270915\n",
       "Age                  0.238356  0.431587"
      ]
     },
     "execution_count": 15,
     "metadata": {},
     "output_type": "execute_result"
    }
   ],
   "source": [
    "# Finding correlation matrix between all features and target 'class'\n",
    "Correlation = df.corr()['Class']\n",
    "Correlation = pd.DataFrame(Correlation)\n",
    "\n",
    "# Removing self correlation of 'class', present at last index\n",
    "Correlation = Correlation[:-1] \n",
    "Correlation['Weights'] = (Correlation.Class - min(Correlation.Class))/(max(Correlation.Class) - min(Correlation.Class))\n",
    "Correlation"
   ]
  },
  {
   "cell_type": "markdown",
   "metadata": {},
   "source": [
    "- Correlation Matrix _**Assumed**_ weights based on Correlation values and put into a weighting function (i.e. function used here to weight is 'Normalization')"
   ]
  },
  {
   "cell_type": "code",
   "execution_count": 16,
   "metadata": {
    "collapsed": true
   },
   "outputs": [],
   "source": [
    "# To calulated Distance weighted Eucledian Distance. Weights are assumed.\n",
    "def Weighted_Euclidean_Distance(train_feature_vector, test_feature_vector):\n",
    "    \n",
    "    W_ED = 0\n",
    "    \n",
    "    # Weight_vector = [W1, W2, W3, ..., W8 ] ; Where, W_i = Weight associated with feature_i\n",
    "    Weight_vector = np.array(Correlation['Weights'])\n",
    "    \n",
    "    # W_ED = sqrt[ W1(x2-x1)^2 + W2(x2-x1)^2 + ... + Wn(x2-x1)^2 ]\n",
    "    W_ED = Weight_vector * (train_feature_vector - test_feature_vector)**2\n",
    "    W_ED = np.sqrt(W_ED.sum())\n",
    "    \n",
    "    return W_ED"
   ]
  },
  {
   "cell_type": "markdown",
   "metadata": {},
   "source": [
    "## Step 3:- Finding top 'k' neighbours using KNN"
   ]
  },
  {
   "cell_type": "markdown",
   "metadata": {},
   "source": [
    "1.KNN using:\n",
    "    - Simple Euclidean Distance\n",
    "    - Simple Majority Voting"
   ]
  },
  {
   "cell_type": "code",
   "execution_count": 17,
   "metadata": {
    "collapsed": true
   },
   "outputs": [],
   "source": [
    "def KNN(train_data, test_data, k):\n",
    "    \n",
    "    Y_test_hat = []\n",
    "    \n",
    "    for test_feature_vector in test_data[Features].values:\n",
    "        \n",
    "        ED_List = []\n",
    "        \n",
    "        # # DISTANCE MEASUREMENT - Using Method 1: Simple Euclidean Distance\n",
    "        #\n",
    "        # Calculating ED between each test data row and all train data rows\n",
    "        for train_feature_vector in train_data[Features].values:\n",
    "            ED_List.append(Euclidean_Distance(train_feature_vector, test_feature_vector))\n",
    "        \n",
    "        # Storing calulcated list of ED along with the training data for better understanding \n",
    "        train_data_ED = train_data.copy()\n",
    "        train_data_ED['Euclidean_Distance'] = ED_List\n",
    "        \n",
    "        # Sorting the top 'k' rows for k-nearest neighbours based on shortest ED\n",
    "        train_data_ED = train_data_ED.sort_values(by='Euclidean_Distance').head(k)\n",
    "        \n",
    "        # # VOTING PROCESS - Using Method 1: Simple Majority Voting\n",
    "        #\n",
    "        # Finding out the majoirty class value present for k-nearest neighbours\n",
    "        majorityClass = train_data_ED['Class'].mode()[0]\n",
    "        \n",
    "        # Appending to final predicted values list\n",
    "        Y_test_hat.append(majorityClass)\n",
    "        \n",
    "    return Y_test_hat"
   ]
  },
  {
   "cell_type": "code",
   "execution_count": 18,
   "metadata": {
    "collapsed": true
   },
   "outputs": [],
   "source": [
    "Y_hat_KNN = KNN(train_data, test_data, k)"
   ]
  },
  {
   "cell_type": "markdown",
   "metadata": {},
   "source": [
    "2.Distance Weighted KNN (WKNN) using:\n",
    "    - Weighted Euclidean Distance\n",
    "    - Distance Weighted Voting"
   ]
  },
  {
   "cell_type": "markdown",
   "metadata": {},
   "source": [
    "![WKNN Formula](Data/knn.png)"
   ]
  },
  {
   "cell_type": "markdown",
   "metadata": {},
   "source": [
    "- 'A Novel Weighted Voting for K-Nearest' by (P)Jianping Gou"
   ]
  },
  {
   "cell_type": "code",
   "execution_count": 19,
   "metadata": {
    "collapsed": true
   },
   "outputs": [],
   "source": [
    "def WKNN(train_data, test_data, k):\n",
    "    \n",
    "    Y_test_hat = []\n",
    "    \n",
    "    for test_feature_vector in test_data[Features].values:\n",
    "        WED_List = []\n",
    "        \n",
    "        # # DISTANCE MEASUREMENT - Using Method 2: Weighted Euclidean Distance\n",
    "        #\n",
    "        # Calculating W_ED between each test data row and all train data rows\n",
    "        for train_feature_vector in train_data[Features].values:\n",
    "            WED_List.append(Weighted_Euclidean_Distance(train_feature_vector, test_feature_vector))\n",
    "\n",
    "        # Storing calulcated list of ED along with the training data for better understanding \n",
    "        train_data_WED = train_data.copy()\n",
    "        train_data_WED['Weighted_Euclidean_Distance'] = WED_List\n",
    "\n",
    "        # Sorting the top 'k' rows for k-nearest neighbours based on shortest ED\n",
    "        train_data_WED = train_data_WED.sort_values(by='Weighted_Euclidean_Distance').head(k)\n",
    "\n",
    "        # # VOTING PROCESS - Using Method 2: Distance Weighted Voting\n",
    "        # \n",
    "        #         d_max - d_i \n",
    "        # W_i =  -------------  ;  W_i corresponds to individual weights to each row\n",
    "        #        d_max - d_min\n",
    "        #\n",
    "        # P(1) = Count(1)/Total x SUM(Weights_1s)\n",
    "        # P(0) = COunt(0)/Total X SUM(Weights_0s)\n",
    "\n",
    "        # Storing Counts\n",
    "        Class_0_Size = len(train_data_WED[train_data_WED.Class == 0])\n",
    "        Class_1_Size = len(train_data_WED[train_data_WED.Class == 1])\n",
    "        Total_size = k \n",
    "\n",
    "        # Calculating W_i\n",
    "        d_i = train_data_WED['Weighted_Euclidean_Distance']\n",
    "        train_data_WED['Weights'] = (max(d_i) - d_i)/(max(d_i) - min(d_i))\n",
    "\n",
    "        # Summing Weights for each class; W(0) = W_1 + W_3 + W_4\n",
    "        #                                 W(1) = W_2 + W_5 \n",
    "        Class_0_Weights_SUM = train_data_WED[train_data_WED.Class == 0]['Weights'].sum()\n",
    "        Class_1_Weights_SUM = train_data_WED[train_data_WED.Class == 1]['Weights'].sum()\n",
    "\n",
    "        # Calculating Weight * P(Class)\n",
    "        Weighted_Vote_0 = (1.0*Class_0_Size/Total_size) * Class_0_Weights_SUM\n",
    "        Weighted_Vote_1 = (1.0*Class_1_Size/Total_size) * Class_1_Weights_SUM\n",
    "\n",
    "        if Weighted_Vote_0 > Weighted_Vote_1:\n",
    "            Y_test_hat.append(0)\n",
    "        else:\n",
    "            Y_test_hat.append(1)\n",
    "        \n",
    "    return Y_test_hat"
   ]
  },
  {
   "cell_type": "code",
   "execution_count": 22,
   "metadata": {
    "collapsed": true
   },
   "outputs": [],
   "source": [
    "Y_hat_WKNN = WKNN(train_data, test_data, k)"
   ]
  },
  {
   "cell_type": "markdown",
   "metadata": {},
   "source": [
    "## Accuracy"
   ]
  },
  {
   "cell_type": "code",
   "execution_count": 23,
   "metadata": {},
   "outputs": [
    {
     "name": "stdout",
     "output_type": "stream",
     "text": [
      "Accuracy (KNN) = 74.34%\n",
      "Accuracy (WKNN) = 75.66%\n"
     ]
    }
   ],
   "source": [
    "score_KNN,  score_WKNN = 0, 0\n",
    "\n",
    "for y, y_1, y_2 in zip(test_data.Class, Y_hat_KNN, Y_hat_WKNN):\n",
    "    \n",
    "    if y == y_1:\n",
    "        score_KNN +=1\n",
    "    \n",
    "    if y == y_2:\n",
    "        score_WKNN +=1\n",
    "\n",
    "score_KNN, score_WKNN = 100.0*score_KNN/len(test_data), 100.0*score_WKNN/len(test_data)\n",
    "\n",
    "print \"Accuracy (KNN) = {}%\\nAccuracy (WKNN) = {}%\".format(round(score_KNN, 2), round(score_WKNN, 2))"
   ]
  },
  {
   "cell_type": "markdown",
   "metadata": {},
   "source": [
    "----"
   ]
  },
  {
   "cell_type": "markdown",
   "metadata": {},
   "source": [
    "# Using sklearn in-built libraries..."
   ]
  },
  {
   "cell_type": "markdown",
   "metadata": {},
   "source": [
    "## Imports"
   ]
  },
  {
   "cell_type": "code",
   "execution_count": 25,
   "metadata": {},
   "outputs": [],
   "source": [
    "import pandas as pd\n",
    "import numpy as np\n",
    "\n",
    "from sklearn.utils import shuffle\n",
    "from sklearn.preprocessing import StandardScaler\n",
    "from sklearn.model_selection import train_test_split\n",
    "from sklearn.cross_validation import cross_val_score, cross_val_predict\n",
    "from sklearn.grid_search import GridSearchCV\n",
    "from sklearn.metrics import accuracy_score, confusion_matrix, classification_report\n",
    "\n",
    "from sklearn.neighbors import KNeighborsClassifier"
   ]
  },
  {
   "cell_type": "markdown",
   "metadata": {},
   "source": [
    "## Dataset"
   ]
  },
  {
   "cell_type": "code",
   "execution_count": 26,
   "metadata": {
    "scrolled": true
   },
   "outputs": [
    {
     "data": {
      "text/html": [
       "<div>\n",
       "<style>\n",
       "    .dataframe thead tr:only-child th {\n",
       "        text-align: right;\n",
       "    }\n",
       "\n",
       "    .dataframe thead th {\n",
       "        text-align: left;\n",
       "    }\n",
       "\n",
       "    .dataframe tbody tr th {\n",
       "        vertical-align: top;\n",
       "    }\n",
       "</style>\n",
       "<table border=\"1\" class=\"dataframe\">\n",
       "  <thead>\n",
       "    <tr style=\"text-align: right;\">\n",
       "      <th></th>\n",
       "      <th>Level</th>\n",
       "      <th>Iron_content</th>\n",
       "      <th>Calcium_content</th>\n",
       "      <th>Vitamins_deficiency</th>\n",
       "      <th>Beta_nagative</th>\n",
       "      <th>Beta_postive</th>\n",
       "      <th>Blood_workout</th>\n",
       "      <th>Age</th>\n",
       "      <th>Class</th>\n",
       "    </tr>\n",
       "  </thead>\n",
       "  <tbody>\n",
       "    <tr>\n",
       "      <th>0</th>\n",
       "      <td>6</td>\n",
       "      <td>148</td>\n",
       "      <td>72</td>\n",
       "      <td>35</td>\n",
       "      <td>0</td>\n",
       "      <td>33.6</td>\n",
       "      <td>0.627</td>\n",
       "      <td>50</td>\n",
       "      <td>1</td>\n",
       "    </tr>\n",
       "    <tr>\n",
       "      <th>1</th>\n",
       "      <td>1</td>\n",
       "      <td>85</td>\n",
       "      <td>66</td>\n",
       "      <td>29</td>\n",
       "      <td>0</td>\n",
       "      <td>26.6</td>\n",
       "      <td>0.351</td>\n",
       "      <td>31</td>\n",
       "      <td>0</td>\n",
       "    </tr>\n",
       "    <tr>\n",
       "      <th>2</th>\n",
       "      <td>8</td>\n",
       "      <td>183</td>\n",
       "      <td>64</td>\n",
       "      <td>0</td>\n",
       "      <td>0</td>\n",
       "      <td>23.3</td>\n",
       "      <td>0.672</td>\n",
       "      <td>32</td>\n",
       "      <td>1</td>\n",
       "    </tr>\n",
       "    <tr>\n",
       "      <th>3</th>\n",
       "      <td>1</td>\n",
       "      <td>89</td>\n",
       "      <td>66</td>\n",
       "      <td>23</td>\n",
       "      <td>94</td>\n",
       "      <td>28.1</td>\n",
       "      <td>0.167</td>\n",
       "      <td>21</td>\n",
       "      <td>0</td>\n",
       "    </tr>\n",
       "    <tr>\n",
       "      <th>4</th>\n",
       "      <td>0</td>\n",
       "      <td>137</td>\n",
       "      <td>40</td>\n",
       "      <td>35</td>\n",
       "      <td>168</td>\n",
       "      <td>43.1</td>\n",
       "      <td>2.288</td>\n",
       "      <td>33</td>\n",
       "      <td>1</td>\n",
       "    </tr>\n",
       "  </tbody>\n",
       "</table>\n",
       "</div>"
      ],
      "text/plain": [
       "   Level  Iron_content  Calcium_content  Vitamins_deficiency  Beta_nagative  \\\n",
       "0      6           148               72                   35              0   \n",
       "1      1            85               66                   29              0   \n",
       "2      8           183               64                    0              0   \n",
       "3      1            89               66                   23             94   \n",
       "4      0           137               40                   35            168   \n",
       "\n",
       "   Beta_postive  Blood_workout  Age  Class  \n",
       "0          33.6          0.627   50      1  \n",
       "1          26.6          0.351   31      0  \n",
       "2          23.3          0.672   32      1  \n",
       "3          28.1          0.167   21      0  \n",
       "4          43.1          2.288   33      1  "
      ]
     },
     "execution_count": 26,
     "metadata": {},
     "output_type": "execute_result"
    }
   ],
   "source": [
    "df = pd.read_csv('Data/data_5_2_pima-indians-diabetes.data.csv')\n",
    "df.head()"
   ]
  },
  {
   "cell_type": "code",
   "execution_count": 27,
   "metadata": {},
   "outputs": [
    {
     "data": {
      "text/plain": [
       "(768, 9)"
      ]
     },
     "execution_count": 27,
     "metadata": {},
     "output_type": "execute_result"
    }
   ],
   "source": [
    "df.shape"
   ]
  },
  {
   "cell_type": "markdown",
   "metadata": {},
   "source": [
    "#### Features"
   ]
  },
  {
   "cell_type": "code",
   "execution_count": 28,
   "metadata": {
    "collapsed": true
   },
   "outputs": [],
   "source": [
    "Features = list(df.columns)\n",
    "Features.remove(\"Class\")"
   ]
  },
  {
   "cell_type": "markdown",
   "metadata": {},
   "source": [
    "## X, Y"
   ]
  },
  {
   "cell_type": "code",
   "execution_count": 29,
   "metadata": {
    "collapsed": true
   },
   "outputs": [],
   "source": [
    "X = df[Features]\n",
    "Y = df['Class']"
   ]
  },
  {
   "cell_type": "markdown",
   "metadata": {},
   "source": [
    "## Standardisation "
   ]
  },
  {
   "cell_type": "markdown",
   "metadata": {},
   "source": [
    "`Most of the machine learning algorithms are based on the calculation of Euclidean distance between data points, which will be affected if the data is not on same scale and the results will be highly skewed. `\n",
    "\n",
    "`Thus, weightage will be improper and influenced`\n",
    "\n",
    " - Example, 5kg and 5000g\n",
    "\n",
    "    - For a test sample, let's say of 10 kg - \n",
    "\n",
    "    - ED (5, 10) = 5\n",
    "\n",
    "    - ED (5000, 10) = 4990\n",
    "\n",
    "`Both are theoretically equal and same, but for the model, 5 is closer (as ED is less) while 5000 is quite far, thus will exhibit 5's class.`"
   ]
  },
  {
   "cell_type": "code",
   "execution_count": 30,
   "metadata": {
    "collapsed": true
   },
   "outputs": [],
   "source": [
    "Standardization = StandardScaler()"
   ]
  },
  {
   "cell_type": "code",
   "execution_count": 31,
   "metadata": {},
   "outputs": [
    {
     "data": {
      "text/plain": [
       "StandardScaler(copy=True, with_mean=True, with_std=True)"
      ]
     },
     "execution_count": 31,
     "metadata": {},
     "output_type": "execute_result"
    }
   ],
   "source": [
    "Standardization.fit(X)"
   ]
  },
  {
   "cell_type": "code",
   "execution_count": 32,
   "metadata": {
    "collapsed": true
   },
   "outputs": [],
   "source": [
    "X = Standardization.transform(X)"
   ]
  },
  {
   "cell_type": "code",
   "execution_count": 33,
   "metadata": {},
   "outputs": [
    {
     "data": {
      "text/html": [
       "<div>\n",
       "<style>\n",
       "    .dataframe thead tr:only-child th {\n",
       "        text-align: right;\n",
       "    }\n",
       "\n",
       "    .dataframe thead th {\n",
       "        text-align: left;\n",
       "    }\n",
       "\n",
       "    .dataframe tbody tr th {\n",
       "        vertical-align: top;\n",
       "    }\n",
       "</style>\n",
       "<table border=\"1\" class=\"dataframe\">\n",
       "  <thead>\n",
       "    <tr style=\"text-align: right;\">\n",
       "      <th></th>\n",
       "      <th>Level</th>\n",
       "      <th>Iron_content</th>\n",
       "      <th>Calcium_content</th>\n",
       "      <th>Vitamins_deficiency</th>\n",
       "      <th>Beta_nagative</th>\n",
       "      <th>Beta_postive</th>\n",
       "      <th>Blood_workout</th>\n",
       "      <th>Age</th>\n",
       "    </tr>\n",
       "  </thead>\n",
       "  <tbody>\n",
       "    <tr>\n",
       "      <th>0</th>\n",
       "      <td>0.639947</td>\n",
       "      <td>0.848324</td>\n",
       "      <td>0.149641</td>\n",
       "      <td>0.907270</td>\n",
       "      <td>-0.692891</td>\n",
       "      <td>0.204013</td>\n",
       "      <td>0.468492</td>\n",
       "      <td>1.425995</td>\n",
       "    </tr>\n",
       "    <tr>\n",
       "      <th>1</th>\n",
       "      <td>-0.844885</td>\n",
       "      <td>-1.123396</td>\n",
       "      <td>-0.160546</td>\n",
       "      <td>0.530902</td>\n",
       "      <td>-0.692891</td>\n",
       "      <td>-0.684422</td>\n",
       "      <td>-0.365061</td>\n",
       "      <td>-0.190672</td>\n",
       "    </tr>\n",
       "    <tr>\n",
       "      <th>2</th>\n",
       "      <td>1.233880</td>\n",
       "      <td>1.943724</td>\n",
       "      <td>-0.263941</td>\n",
       "      <td>-1.288212</td>\n",
       "      <td>-0.692891</td>\n",
       "      <td>-1.103255</td>\n",
       "      <td>0.604397</td>\n",
       "      <td>-0.105584</td>\n",
       "    </tr>\n",
       "    <tr>\n",
       "      <th>3</th>\n",
       "      <td>-0.844885</td>\n",
       "      <td>-0.998208</td>\n",
       "      <td>-0.160546</td>\n",
       "      <td>0.154533</td>\n",
       "      <td>0.123302</td>\n",
       "      <td>-0.494043</td>\n",
       "      <td>-0.920763</td>\n",
       "      <td>-1.041549</td>\n",
       "    </tr>\n",
       "    <tr>\n",
       "      <th>4</th>\n",
       "      <td>-1.141852</td>\n",
       "      <td>0.504055</td>\n",
       "      <td>-1.504687</td>\n",
       "      <td>0.907270</td>\n",
       "      <td>0.765836</td>\n",
       "      <td>1.409746</td>\n",
       "      <td>5.484909</td>\n",
       "      <td>-0.020496</td>\n",
       "    </tr>\n",
       "  </tbody>\n",
       "</table>\n",
       "</div>"
      ],
      "text/plain": [
       "      Level  Iron_content  Calcium_content  Vitamins_deficiency  \\\n",
       "0  0.639947      0.848324         0.149641             0.907270   \n",
       "1 -0.844885     -1.123396        -0.160546             0.530902   \n",
       "2  1.233880      1.943724        -0.263941            -1.288212   \n",
       "3 -0.844885     -0.998208        -0.160546             0.154533   \n",
       "4 -1.141852      0.504055        -1.504687             0.907270   \n",
       "\n",
       "   Beta_nagative  Beta_postive  Blood_workout       Age  \n",
       "0      -0.692891      0.204013       0.468492  1.425995  \n",
       "1      -0.692891     -0.684422      -0.365061 -0.190672  \n",
       "2      -0.692891     -1.103255       0.604397 -0.105584  \n",
       "3       0.123302     -0.494043      -0.920763 -1.041549  \n",
       "4       0.765836      1.409746       5.484909 -0.020496  "
      ]
     },
     "execution_count": 33,
     "metadata": {},
     "output_type": "execute_result"
    }
   ],
   "source": [
    "X = pd.DataFrame(X, columns = Features)\n",
    "X.head()"
   ]
  },
  {
   "cell_type": "markdown",
   "metadata": {},
   "source": [
    "## Randomly - Choosing the a value of 'k'"
   ]
  },
  {
   "cell_type": "markdown",
   "metadata": {},
   "source": [
    "k = sqrt(n)\n",
    "\n",
    "where, n is the total number of data points"
   ]
  },
  {
   "cell_type": "code",
   "execution_count": 34,
   "metadata": {},
   "outputs": [
    {
     "data": {
      "text/plain": [
       "27"
      ]
     },
     "execution_count": 34,
     "metadata": {},
     "output_type": "execute_result"
    }
   ],
   "source": [
    "k = int(np.sqrt(len(X)))\n",
    "k"
   ]
  },
  {
   "cell_type": "markdown",
   "metadata": {},
   "source": [
    "## Model"
   ]
  },
  {
   "cell_type": "code",
   "execution_count": 35,
   "metadata": {
    "collapsed": true
   },
   "outputs": [],
   "source": [
    "KNN = KNeighborsClassifier(n_neighbors = k, weights='uniform')"
   ]
  },
  {
   "cell_type": "markdown",
   "metadata": {},
   "source": [
    "## Prediction"
   ]
  },
  {
   "cell_type": "code",
   "execution_count": 36,
   "metadata": {
    "collapsed": true,
    "scrolled": true
   },
   "outputs": [],
   "source": [
    "Y_hat = cross_val_predict(KNN, X, Y, cv=10)"
   ]
  },
  {
   "cell_type": "markdown",
   "metadata": {},
   "source": [
    "## Accuracy"
   ]
  },
  {
   "cell_type": "code",
   "execution_count": 37,
   "metadata": {},
   "outputs": [
    {
     "name": "stdout",
     "output_type": "stream",
     "text": [
      "Accuracy=74.609375\n",
      "[[446  54]\n",
      " [141 127]]\n",
      "             precision    recall  f1-score   support\n",
      "\n",
      "          0       0.76      0.89      0.82       500\n",
      "          1       0.70      0.47      0.57       268\n",
      "\n",
      "avg / total       0.74      0.75      0.73       768\n",
      "\n"
     ]
    }
   ],
   "source": [
    "print 'Accuracy={}\\n{}\\n{}'.format(accuracy_score(Y,Y_hat)*100.0, confusion_matrix(Y,Y_hat), classification_report(Y,Y_hat))"
   ]
  },
  {
   "cell_type": "markdown",
   "metadata": {},
   "source": [
    "    - Precision  : Total positives / Total predicted postives    -> Bot's performance\n",
    "    - Recall     : Total positives / Total actual positives      -> Bot's performance on test data\n",
    "    \n",
    "- Model performing is a little baised towards '0'. Recall for '0' is quite high as compared to that of '1' which means, True Negatives (0) are quite higher than true postives (1).\n",
    "\n",
    "\n",
    "- By confusion matrix it is clear, TN=446 out of total 500 ; TP=127 out of 268"
   ]
  },
  {
   "cell_type": "markdown",
   "metadata": {},
   "source": [
    "## Improved Accuracy - Using  *10 Fold CV*"
   ]
  },
  {
   "cell_type": "markdown",
   "metadata": {},
   "source": [
    "#### Average Accuracy Scores for 10 Fold CV ... (i.e. 10 times entire Y_hat computed, calculated score and averaged in the end)"
   ]
  },
  {
   "cell_type": "code",
   "execution_count": 38,
   "metadata": {},
   "outputs": [
    {
     "name": "stdout",
     "output_type": "stream",
     "text": [
      "Average Accuracy Score =  74.609 %\n"
     ]
    }
   ],
   "source": [
    "scores = cross_val_score(KNN, X, Y, cv=10, scoring='accuracy').mean()\n",
    "print 'Average Accuracy Score = ', round(accuracy_score(Y,Y_hat)*100.0,3), '%'"
   ]
  },
  {
   "cell_type": "markdown",
   "metadata": {},
   "source": [
    "----"
   ]
  },
  {
   "cell_type": "markdown",
   "metadata": {},
   "source": [
    "## Hyperparameter Tuning: GridSearchCV (best vaue of 'k' )"
   ]
  },
  {
   "cell_type": "code",
   "execution_count": 39,
   "metadata": {
    "collapsed": true
   },
   "outputs": [],
   "source": [
    "KNN = KNeighborsClassifier()"
   ]
  },
  {
   "cell_type": "code",
   "execution_count": 40,
   "metadata": {
    "collapsed": true
   },
   "outputs": [],
   "source": [
    "grid_params = {'n_neighbors': range(1,50), 'weights': ['uniform', 'distance'], 'p': [1,2]}"
   ]
  },
  {
   "cell_type": "code",
   "execution_count": 41,
   "metadata": {
    "collapsed": true
   },
   "outputs": [],
   "source": [
    "grid = GridSearchCV(KNN, grid_params, cv=10, scoring='accuracy')"
   ]
  },
  {
   "cell_type": "code",
   "execution_count": 42,
   "metadata": {},
   "outputs": [
    {
     "data": {
      "text/plain": [
       "GridSearchCV(cv=10, error_score='raise',\n",
       "       estimator=KNeighborsClassifier(algorithm='auto', leaf_size=30, metric='minkowski',\n",
       "           metric_params=None, n_jobs=1, n_neighbors=5, p=2,\n",
       "           weights='uniform'),\n",
       "       fit_params={}, iid=True, n_jobs=1,\n",
       "       param_grid={'n_neighbors': [1, 2, 3, 4, 5, 6, 7, 8, 9, 10, 11, 12, 13, 14, 15, 16, 17, 18, 19, 20, 21, 22, 23, 24, 25, 26, 27, 28, 29, 30, 31, 32, 33, 34, 35, 36, 37, 38, 39, 40, 41, 42, 43, 44, 45, 46, 47, 48, 49], 'weights': ['uniform', 'distance'], 'p': [1, 2]},\n",
       "       pre_dispatch='2*n_jobs', refit=True, scoring='accuracy', verbose=0)"
      ]
     },
     "execution_count": 42,
     "metadata": {},
     "output_type": "execute_result"
    }
   ],
   "source": [
    "grid.fit(X, Y)"
   ]
  },
  {
   "cell_type": "markdown",
   "metadata": {},
   "source": [
    "#### Best model "
   ]
  },
  {
   "cell_type": "code",
   "execution_count": 43,
   "metadata": {},
   "outputs": [
    {
     "data": {
      "text/plain": [
       "KNeighborsClassifier(algorithm='auto', leaf_size=30, metric='minkowski',\n",
       "           metric_params=None, n_jobs=1, n_neighbors=24, p=1,\n",
       "           weights='distance')"
      ]
     },
     "execution_count": 43,
     "metadata": {},
     "output_type": "execute_result"
    }
   ],
   "source": [
    "grid.best_estimator_"
   ]
  },
  {
   "cell_type": "markdown",
   "metadata": {},
   "source": [
    "#### Best Parameters"
   ]
  },
  {
   "cell_type": "code",
   "execution_count": 44,
   "metadata": {},
   "outputs": [
    {
     "data": {
      "text/plain": [
       "{'n_neighbors': 24, 'p': 1, 'weights': 'distance'}"
      ]
     },
     "execution_count": 44,
     "metadata": {},
     "output_type": "execute_result"
    }
   ],
   "source": [
    "grid.best_params_"
   ]
  },
  {
   "cell_type": "markdown",
   "metadata": {},
   "source": [
    "#### Best Overall Accuracy Score"
   ]
  },
  {
   "cell_type": "code",
   "execution_count": 45,
   "metadata": {
    "scrolled": true
   },
   "outputs": [
    {
     "data": {
      "text/plain": [
       "0.7643229166666666"
      ]
     },
     "execution_count": 45,
     "metadata": {},
     "output_type": "execute_result"
    }
   ],
   "source": [
    "grid.best_score_"
   ]
  },
  {
   "cell_type": "markdown",
   "metadata": {},
   "source": [
    "- So the best model will have:-\n",
    "    - k=24,\n",
    "    - p=1, \n",
    "    - Distance Weighted Eucledian Distance formula."
   ]
  }
 ],
 "metadata": {
  "kernelspec": {
   "display_name": "Python 2",
   "language": "python",
   "name": "python2"
  },
  "language_info": {
   "codemirror_mode": {
    "name": "ipython",
    "version": 2
   },
   "file_extension": ".py",
   "mimetype": "text/x-python",
   "name": "python",
   "nbconvert_exporter": "python",
   "pygments_lexer": "ipython2",
   "version": "2.7.13"
  }
 },
 "nbformat": 4,
 "nbformat_minor": 2
}
